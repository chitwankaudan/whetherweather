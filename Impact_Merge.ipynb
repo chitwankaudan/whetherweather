{
 "cells": [
  {
   "cell_type": "code",
   "execution_count": 1,
   "metadata": {},
   "outputs": [],
   "source": [
    "import numpy as np\n",
    "import pandas as pd\n",
    "from ast import literal_eval"
   ]
  },
  {
   "cell_type": "code",
   "execution_count": 2,
   "metadata": {},
   "outputs": [],
   "source": [
    "df = pd.read_csv(\"/home/ahimschoot3-gtri/Amazon/search_grid.csv\", converters={\"mapped_zipcodes\": literal_eval})"
   ]
  },
  {
   "cell_type": "code",
   "execution_count": 3,
   "metadata": {},
   "outputs": [],
   "source": [
    "df = df.explode(\"mapped_zipcodes\").reset_index()\n",
    "df['mapped_zipcodes'] = pd.to_numeric(df['mapped_zipcodes'])"
   ]
  },
  {
   "cell_type": "code",
   "execution_count": 4,
   "metadata": {},
   "outputs": [],
   "source": [
    "impact_17 = pd.read_csv(\"/home/ahimschoot3-gtri/Amazon/impact_score_2017.csv\")"
   ]
  },
  {
   "cell_type": "code",
   "execution_count": 5,
   "metadata": {},
   "outputs": [],
   "source": [
    "impact_17 = impact_17.join(df.set_index('mapped_zipcodes'), on='zip5').drop([\"Unnamed: 0\", \"index\"], axis = 1)"
   ]
  },
  {
   "cell_type": "code",
   "execution_count": 6,
   "metadata": {},
   "outputs": [],
   "source": [
    "impact_18 = pd.read_csv(\"/home/ahimschoot3-gtri/Amazon/impact_score_2018.csv\")"
   ]
  },
  {
   "cell_type": "code",
   "execution_count": 7,
   "metadata": {},
   "outputs": [],
   "source": [
    "impact_18 = impact_18.join(df.set_index('mapped_zipcodes'), on='zip5').drop([\"Unnamed: 0\", \"index\"], axis = 1)"
   ]
  },
  {
   "cell_type": "code",
   "execution_count": 8,
   "metadata": {},
   "outputs": [],
   "source": [
    "impact_19 = pd.read_csv(\"/home/ahimschoot3-gtri/Amazon/impact_score_2019_public_test.csv\")\n",
    "impact_19[\"impact_score\"] = 0"
   ]
  },
  {
   "cell_type": "code",
   "execution_count": 9,
   "metadata": {},
   "outputs": [],
   "source": [
    "impact_19 = impact_19.join(df.set_index('mapped_zipcodes'), on='zip5').drop([\"Unnamed: 0\", \"index\"], axis = 1)"
   ]
  },
  {
   "cell_type": "code",
   "execution_count": 11,
   "metadata": {},
   "outputs": [
    {
     "data": {
      "text/html": [
       "<div>\n",
       "<style scoped>\n",
       "    .dataframe tbody tr th:only-of-type {\n",
       "        vertical-align: middle;\n",
       "    }\n",
       "\n",
       "    .dataframe tbody tr th {\n",
       "        vertical-align: top;\n",
       "    }\n",
       "\n",
       "    .dataframe thead th {\n",
       "        text-align: right;\n",
       "    }\n",
       "</style>\n",
       "<table border=\"1\" class=\"dataframe\">\n",
       "  <thead>\n",
       "    <tr style=\"text-align: right;\">\n",
       "      <th></th>\n",
       "      <th>date_key</th>\n",
       "      <th>zip5</th>\n",
       "      <th>impact_score</th>\n",
       "      <th>grid_lat</th>\n",
       "      <th>grid_lon</th>\n",
       "    </tr>\n",
       "  </thead>\n",
       "  <tbody>\n",
       "    <tr>\n",
       "      <th>0</th>\n",
       "      <td>2017-01-01</td>\n",
       "      <td>2722</td>\n",
       "      <td>20.268081</td>\n",
       "      <td>41.5</td>\n",
       "      <td>-71.0</td>\n",
       "    </tr>\n",
       "    <tr>\n",
       "      <th>1</th>\n",
       "      <td>2017-01-01</td>\n",
       "      <td>3063</td>\n",
       "      <td>31.794226</td>\n",
       "      <td>43.0</td>\n",
       "      <td>-71.5</td>\n",
       "    </tr>\n",
       "    <tr>\n",
       "      <th>2</th>\n",
       "      <td>2017-01-01</td>\n",
       "      <td>7008</td>\n",
       "      <td>22.809754</td>\n",
       "      <td>40.5</td>\n",
       "      <td>-74.0</td>\n",
       "    </tr>\n",
       "    <tr>\n",
       "      <th>3</th>\n",
       "      <td>2017-01-01</td>\n",
       "      <td>8518</td>\n",
       "      <td>8.621755</td>\n",
       "      <td>40.0</td>\n",
       "      <td>-75.0</td>\n",
       "    </tr>\n",
       "    <tr>\n",
       "      <th>4</th>\n",
       "      <td>2017-01-01</td>\n",
       "      <td>8691</td>\n",
       "      <td>21.099682</td>\n",
       "      <td>40.0</td>\n",
       "      <td>-74.5</td>\n",
       "    </tr>\n",
       "    <tr>\n",
       "      <th>...</th>\n",
       "      <td>...</td>\n",
       "      <td>...</td>\n",
       "      <td>...</td>\n",
       "      <td>...</td>\n",
       "      <td>...</td>\n",
       "    </tr>\n",
       "    <tr>\n",
       "      <th>98670</th>\n",
       "      <td>2019-12-31</td>\n",
       "      <td>97124</td>\n",
       "      <td>0.000000</td>\n",
       "      <td>45.5</td>\n",
       "      <td>-123.0</td>\n",
       "    </tr>\n",
       "    <tr>\n",
       "      <th>98671</th>\n",
       "      <td>2019-12-31</td>\n",
       "      <td>98032</td>\n",
       "      <td>0.000000</td>\n",
       "      <td>47.5</td>\n",
       "      <td>-122.5</td>\n",
       "    </tr>\n",
       "    <tr>\n",
       "      <th>98672</th>\n",
       "      <td>2019-12-31</td>\n",
       "      <td>98327</td>\n",
       "      <td>0.000000</td>\n",
       "      <td>47.0</td>\n",
       "      <td>-122.5</td>\n",
       "    </tr>\n",
       "    <tr>\n",
       "      <th>98673</th>\n",
       "      <td>2019-12-31</td>\n",
       "      <td>98390</td>\n",
       "      <td>0.000000</td>\n",
       "      <td>47.0</td>\n",
       "      <td>-122.0</td>\n",
       "    </tr>\n",
       "    <tr>\n",
       "      <th>98674</th>\n",
       "      <td>2019-12-31</td>\n",
       "      <td>98421</td>\n",
       "      <td>0.000000</td>\n",
       "      <td>47.5</td>\n",
       "      <td>-122.5</td>\n",
       "    </tr>\n",
       "  </tbody>\n",
       "</table>\n",
       "<p>98675 rows × 5 columns</p>\n",
       "</div>"
      ],
      "text/plain": [
       "         date_key   zip5  impact_score  grid_lat  grid_lon\n",
       "0      2017-01-01   2722     20.268081      41.5     -71.0\n",
       "1      2017-01-01   3063     31.794226      43.0     -71.5\n",
       "2      2017-01-01   7008     22.809754      40.5     -74.0\n",
       "3      2017-01-01   8518      8.621755      40.0     -75.0\n",
       "4      2017-01-01   8691     21.099682      40.0     -74.5\n",
       "...           ...    ...           ...       ...       ...\n",
       "98670  2019-12-31  97124      0.000000      45.5    -123.0\n",
       "98671  2019-12-31  98032      0.000000      47.5    -122.5\n",
       "98672  2019-12-31  98327      0.000000      47.0    -122.5\n",
       "98673  2019-12-31  98390      0.000000      47.0    -122.0\n",
       "98674  2019-12-31  98421      0.000000      47.5    -122.5\n",
       "\n",
       "[98675 rows x 5 columns]"
      ]
     },
     "execution_count": 11,
     "metadata": {},
     "output_type": "execute_result"
    }
   ],
   "source": [
    "df = pd.concat([impact_17, impact_18,  impact_19], ignore_index=True)\n",
    "df"
   ]
  },
  {
   "cell_type": "code",
   "execution_count": null,
   "metadata": {},
   "outputs": [],
   "source": []
  }
 ],
 "metadata": {
  "kernelspec": {
   "display_name": "Python 3",
   "language": "python",
   "name": "python3"
  },
  "language_info": {
   "codemirror_mode": {
    "name": "ipython",
    "version": 3
   },
   "file_extension": ".py",
   "mimetype": "text/x-python",
   "name": "python",
   "nbconvert_exporter": "python",
   "pygments_lexer": "ipython3",
   "version": "3.8.1"
  }
 },
 "nbformat": 4,
 "nbformat_minor": 4
}
