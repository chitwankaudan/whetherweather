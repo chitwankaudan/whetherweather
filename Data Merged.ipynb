{
 "cells": [
  {
   "cell_type": "code",
   "execution_count": 1,
   "metadata": {},
   "outputs": [],
   "source": [
    "import numpy as np\n",
    "import os\n",
    "import pandas as pd\n",
    "import glob\n",
    "import h5py\n",
    "import tables\n",
    "from ast import literal_eval"
   ]
  },
  {
   "cell_type": "markdown",
   "metadata": {},
   "source": [
    "## Merging Data\n",
    "\n",
    "This script takes raw data, create a pandas df and saves it to disk as a hdf5 file called `data.h5`. Before running this code, make sure your file directory looks like this...\n",
    "\n",
    "```\n",
    ".\n",
    "│   Data Merged.ipynb\n",
    "│   ...    \n",
    "│\n",
    "└───Data\n",
    "    │   search_grid.csv\n",
    "    │   impact_score_2017.csv\n",
    "    │   impact_score_2017.csv\n",
    "    |   impact_score_2019_public_test.csv\n",
    "    |\n",
    "    └───GFS_2017\n",
    "    |   │   gfs_4_20170101_0000_000.csv\n",
    "    |   │   ...\n",
    "    |\n",
    "    └───GFS_2018\n",
    "    |   │   gfs_4_20180101_0000_000.csv\n",
    "    |   │   ...     \n",
    "    | \n",
    "    └───GFS_2019\n",
    "        │   gfs_4_20190101_0000_000.csv\n",
    "        │   ...     \n",
    "   \n",
    "\n",
    "```"
   ]
  },
  {
   "cell_type": "code",
   "execution_count": 2,
   "metadata": {},
   "outputs": [],
   "source": [
    "#### Path to all data files\n",
    "\n",
    "# All weather\n",
    "weather17 = [\"./Data/GFS_2017/\" + f for f in os.listdir(\"./Data/GFS_2017\")]\n",
    "weather18 = [\"./Data/GFS_2018/\" + f for f in os.listdir(\"./Data/GFS_2018\")]\n",
    "weather19 = [\"./Data/GFS_2019/\" + f for f in os.listdir(\"./Data/GFS_2019\")]\n",
    "allweather = weather17 + weather18 + weather19\n",
    "\n",
    "# All impact\n",
    "allimpact = [\"./Data/\" + f for f in os.listdir(\"./Data\") if f.startswith('impact')]\n",
    "\n",
    "# Loc2zip map\n",
    "grid = \"./Data/search_grid.csv\""
   ]
  },
  {
   "cell_type": "code",
   "execution_count": 3,
   "metadata": {},
   "outputs": [],
   "source": [
    "### Load weather into 1 df\n",
    "# Concat into a giant dataframe\n",
    "weather = pd.concat(map(pd.read_csv, allweather), ignore_index=True)"
   ]
  },
  {
   "cell_type": "code",
   "execution_count": 4,
   "metadata": {},
   "outputs": [],
   "source": [
    "### Load and flatten loc2zip map\n",
    "loc2zip = pd.read_csv(grid, converters={\"mapped_zipcodes\": literal_eval})\n",
    "loc2zip = loc2zip.explode(\"mapped_zipcodes\").reset_index()\n",
    "loc2zip['mapped_zipcodes'] = pd.to_numeric(loc2zip['mapped_zipcodes'])\n",
    "#loc2zip.rename(columns={\"mapped_zipcodes\":\"zip5\"}, inplace=True)"
   ]
  },
  {
   "cell_type": "code",
   "execution_count": 5,
   "metadata": {
    "scrolled": false
   },
   "outputs": [],
   "source": [
    "### Load impact into 1 df\n",
    "impact = pd.concat(map(pd.read_csv, allimpact), ignore_index=True).drop([\"Unnamed: 0\"], axis=1)"
   ]
  },
  {
   "cell_type": "code",
   "execution_count": 6,
   "metadata": {},
   "outputs": [],
   "source": [
    "### Join impact and loc2zip\n",
    "impact_loc = impact.join(loc2zip.set_index('mapped_zipcodes'), on='zip5').drop([\"index\"], axis = 1)"
   ]
  },
  {
   "cell_type": "code",
   "execution_count": 7,
   "metadata": {},
   "outputs": [],
   "source": [
    "### Join impact and weather in loc and date\n",
    "# Preprocessing on join columns \n",
    "impact_loc[\"date_key\"] = pd.to_datetime(impact_loc[\"date_key\"])\n",
    "weather[\"Date\"] = pd.to_datetime(weather[\"Date\"], format=\"%Y%m%d\")\n",
    "\n",
    "data = impact_loc.merge(weather, left_on=[\"date_key\", \"grid_lat\", \"grid_lon\"], right_on=[\"Date\", \"lat\", \"lng\"])\n",
    "data = data.sort_values(by=\"Date\")"
   ]
  },
  {
   "cell_type": "code",
   "execution_count": 8,
   "metadata": {},
   "outputs": [],
   "source": [
    "### Save data as hdf5 file\n",
    "data.to_hdf(\"data.h5\", key='df', mode='a')"
   ]
  }
 ],
 "metadata": {
  "kernelspec": {
   "display_name": "Python [conda env:weather] *",
   "language": "python",
   "name": "conda-env-weather-py"
  },
  "language_info": {
   "codemirror_mode": {
    "name": "ipython",
    "version": 3
   },
   "file_extension": ".py",
   "mimetype": "text/x-python",
   "name": "python",
   "nbconvert_exporter": "python",
   "pygments_lexer": "ipython3",
   "version": "3.7.0"
  }
 },
 "nbformat": 4,
 "nbformat_minor": 4
}
