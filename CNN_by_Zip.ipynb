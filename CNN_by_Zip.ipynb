{
 "cells": [
  {
   "cell_type": "code",
   "execution_count": null,
   "metadata": {},
   "outputs": [],
   "source": [
    "import os\n",
    "import psutil\n",
    "import sys\n",
    "from multiprocessing import Pool\n",
    "import numpy as np\n",
    "import pandas as pd\n",
    "from keras.models import Sequential\n",
    "from keras.layers import Conv2D, MaxPooling2D, Dropout, Flatten, Dense\n",
    "from keras.layers import Convolution1D, MaxPooling1D, AveragePooling1D\n",
    "from keras.layers import Flatten\n",
    "from keras.layers.convolutional import Conv1D\n",
    "from keras.layers.convolutional import MaxPooling1D\n",
    "from sklearn.model_selection import train_test_split\n",
    "from keras.callbacks import EarlyStopping\n",
    "from keras.optimizers import *\n",
    "import math\n",
    "from sklearn.metrics import mean_squared_error\n",
    "from sklearn.model_selection import train_test_split\n",
    "import matplotlib.pyplot as plt\n",
    "import h5py"
   ]
  },
  {
   "cell_type": "code",
   "execution_count": null,
   "metadata": {},
   "outputs": [],
   "source": [
    "#need to change to your datapath\n",
    "data = pd.read_hdf('/home/ahimschoot3-gtri/Amazon/random_forest.h5')"
   ]
  },
  {
   "cell_type": "code",
   "execution_count": null,
   "metadata": {},
   "outputs": [],
   "source": [
    "data"
   ]
  },
  {
   "cell_type": "code",
   "execution_count": null,
   "metadata": {},
   "outputs": [],
   "source": [
    "#reshaping functions Chitwan made\n",
    "def rolling_window(a, window):\n",
    "    shape = a.shape[:-1] + (a.shape[-1] - window + 1, window)\n",
    "    strides = a.strides + (a.strides[-1],)\n",
    "    return np.lib.stride_tricks.as_strided(a, shape=shape, strides=strides)\n",
    "\n",
    "def reshape_X(X, time_interval):\n",
    "    XT = np.transpose(X.values)\n",
    "    reshaped_X = np.transpose(rolling_window(XT, time_interval), (1,2,0))\n",
    "    return reshaped_X"
   ]
  },
  {
   "cell_type": "code",
   "execution_count": null,
   "metadata": {},
   "outputs": [],
   "source": [
    "# list of zips\n",
    "zips = list(data.zip5.unique())\n",
    "zips1 = zips[:23]\n",
    "zips2 = zips[23:46]\n",
    "zips3 = zips[46:69]\n",
    "zips4 = zips[69:]\n",
    "zipsx = [29172]"
   ]
  },
  {
   "cell_type": "code",
   "execution_count": null,
   "metadata": {},
   "outputs": [],
   "source": [
    "#dictionary of predictions\n",
    "predictions = {}\n",
    "\n",
    "#list of rsme\n",
    "rsme = []\n",
    "\n",
    "#change zips to your set of zips\n",
    "for z in zipsx:\n",
    "    \n",
    "    #subsetting data for model\n",
    "    test = data[data['zip5'] == z]\n",
    "    test = test.drop(['zip5', 'datetime'], axis =1)\n",
    "    test_17_18 = test[test['year_2019'] != 1]\n",
    "    \n",
    "    #19 test\n",
    "    test_19 = test[test['year_2019'] == 1]\n",
    "    test_19 = test_17_18[-27:].append(test_19, ignore_index = True)\n",
    "    test_19 = test_19.drop(['impact_score'], axis = 1)\n",
    "    test_19 = reshape_X(test_19, 28)\n",
    "    \n",
    "    #final y list\n",
    "    y = test_17_18['impact_score']\n",
    "    y = y[27:]\n",
    "    \n",
    "    #final X\n",
    "    X = test_17_18.drop(['impact_score'], axis = 1)\n",
    "    X = reshape_X(X, 28)\n",
    "    \n",
    "    \n",
    "    \n",
    "    #data split\n",
    "    test_size = int(0.3 * X.shape[0])\n",
    "    X_train, X_test, y_train, y_test = X[:-test_size], X[-test_size:], y[:-test_size], y[-test_size:]\n",
    "    \n",
    "    #model architecture\n",
    "    model = Sequential((\n",
    "        Convolution1D(input_shape=(28, 173), \n",
    "                      kernel_size=4, activation=\"relu\", filters=4),\n",
    "        MaxPooling1D(),    \n",
    "        Dropout(0.2),\n",
    "        Convolution1D(kernel_size=4, activation=\"relu\", filters=4),\n",
    "        MaxPooling1D(),\n",
    "        Dropout(0.2),\n",
    "        Convolution1D(kernel_size=4, activation=\"relu\", filters=4),\n",
    "        Flatten(),\n",
    "        Dense(1, activation='linear'),\n",
    "        Dense(1, activation='linear'),\n",
    "    ))\n",
    "    opt = Adam(lr=0.0001)\n",
    "    \n",
    "    #output of model while running\n",
    "    model.compile(loss='mean_squared_error', optimizer=opt, metrics=['mse'])\n",
    "    model.summary()\n",
    "    \n",
    "    #stop to prevent overfitting\n",
    "    es = EarlyStopping(monitor='val_loss', mode='min', verbose=1, patience=20)\n",
    "    \n",
    "    #model fit and test\n",
    "    val = model.fit(X_train, y_train, epochs=150, batch_size=5, validation_data=(X_test, y_test), callbacks = [es])\n",
    "    pred = model.predict(X_test)\n",
    "    testScore = math.sqrt(mean_squared_error(y_test,pred))\n",
    "    rsme.append(testScore)\n",
    "    \n",
    "    #model predictions\n",
    "    pred_19 = model.predict(test_19)\n",
    "    predictions[z] = pred_19"
   ]
  },
  {
   "cell_type": "code",
   "execution_count": null,
   "metadata": {},
   "outputs": [],
   "source": []
  }
 ],
 "metadata": {
  "kernelspec": {
   "display_name": "Python 3",
   "language": "python",
   "name": "python3"
  },
  "language_info": {
   "codemirror_mode": {
    "name": "ipython",
    "version": 3
   },
   "file_extension": ".py",
   "mimetype": "text/x-python",
   "name": "python",
   "nbconvert_exporter": "python",
   "pygments_lexer": "ipython3",
   "version": "3.6.10"
  }
 },
 "nbformat": 4,
 "nbformat_minor": 4
}
