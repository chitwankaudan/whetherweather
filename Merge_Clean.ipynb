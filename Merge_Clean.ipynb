{
 "cells": [
  {
   "cell_type": "code",
   "execution_count": 1,
   "metadata": {},
   "outputs": [],
   "source": [
    "import numpy as np\n",
    "import os\n",
    "import pandas as pd\n",
    "import glob\n",
    "import h5py\n",
    "from ast import literal_eval\n",
    "import pandas_profiling"
   ]
  },
  {
   "cell_type": "code",
   "execution_count": 2,
   "metadata": {},
   "outputs": [],
   "source": [
    "#### Path to all data files\n",
    "\n",
    "# All weather\n",
    "weather17 = [\"./Data/GFS_2017/\" + f for f in os.listdir(\"./Data/GFS_2017\") if f.startswith('gfs')]\n",
    "weather18 = [\"./Data/GFS_2018/\" + f for f in os.listdir(\"./Data/GFS_2018\") if f.startswith('gfs')]\n",
    "weather19 = [\"./Data/GFS_2019/\" + f for f in os.listdir(\"./Data/GFS_2019\") if f.startswith('gfs')]\n",
    "allweather = weather17 + weather18 + weather19\n",
    "\n",
    "# All impact\n",
    "allimpact = [\"./Data/\" + f for f in os.listdir(\"./Data\") if f.startswith('impact')]\n",
    "\n",
    "# Loc2zip map\n",
    "grid = \"./Data/search_grid.csv\""
   ]
  },
  {
   "cell_type": "code",
   "execution_count": 3,
   "metadata": {},
   "outputs": [],
   "source": [
    "weather = [pd.read_csv(f, engine=\"python\") for f in allweather]"
   ]
  },
  {
   "cell_type": "code",
   "execution_count": null,
   "metadata": {},
   "outputs": [],
   "source": [
    "weather = pd.concat(map(pd.read_csv, allweather), ignore_index=True)"
   ]
  },
  {
   "cell_type": "code",
   "execution_count": null,
   "metadata": {},
   "outputs": [],
   "source": [
    "### Load and flatten loc2zip map\n",
    "loc2zip = pd.read_csv(grid, converters={\"mapped_zipcodes\": literal_eval})\n",
    "loc2zip = loc2zip.explode(\"mapped_zipcodes\").reset_index()\n",
    "loc2zip['mapped_zipcodes'] = pd.to_numeric(loc2zip['mapped_zipcodes'])\n",
    "#loc2zip.rename(columns={\"mapped_zipcodes\":\"zip5\"}, inplace=True)"
   ]
  },
  {
   "cell_type": "code",
   "execution_count": null,
   "metadata": {},
   "outputs": [],
   "source": [
    "### Load impact into 1 df\n",
    "impact = pd.concat(map(pd.read_csv, allimpact), ignore_index=True).drop([\"Unnamed: 0\"], axis=1)"
   ]
  },
  {
   "cell_type": "code",
   "execution_count": null,
   "metadata": {},
   "outputs": [],
   "source": [
    "### Join impact and loc2zip\n",
    "impact_loc = impact.join(loc2zip.set_index('mapped_zipcodes'), on='zip5').drop([\"index\"], axis = 1)"
   ]
  },
  {
   "cell_type": "code",
   "execution_count": null,
   "metadata": {},
   "outputs": [],
   "source": [
    "### Join impact and weather in loc and date\n",
    "# Preprocessing on join columns \n",
    "impact_loc[\"date_key\"] = pd.to_datetime(impact_loc[\"date_key\"])\n",
    "weather[\"Date\"] = pd.to_datetime(weather[\"Date\"], format=\"%Y%m%d\")\n",
    "\n",
    "data = impact_loc.merge(weather, left_on=[\"date_key\", \"grid_lat\", \"grid_lon\"], right_on=[\"Date\", \"lat\", \"lng\"])\n",
    "data = data.sort_values(by=\"Date\")"
   ]
  },
  {
   "cell_type": "code",
   "execution_count": null,
   "metadata": {},
   "outputs": [],
   "source": [
    "nan_cols = [i for i in data.columns if data[i].isnull().any()]\n",
    "df = data[nan_cols]"
   ]
  },
  {
   "cell_type": "code",
   "execution_count": null,
   "metadata": {},
   "outputs": [],
   "source": [
    "profile = pandas_profiling.ProfileReport(data, title='Pandas Profiling Report', html={'style':{'full_width':True}})"
   ]
  },
  {
   "cell_type": "code",
   "execution_count": null,
   "metadata": {},
   "outputs": [],
   "source": [
    "profile2 = pandas_profiling.ProfileReport(df, title='Pandas Profiling Report 2', html={'style':{'full_width':True}}, minimal=True)"
   ]
  },
  {
   "cell_type": "code",
   "execution_count": null,
   "metadata": {},
   "outputs": [],
   "source": [
    "profile.to_file(output_file=\"full.html\")"
   ]
  },
  {
   "cell_type": "code",
   "execution_count": null,
   "metadata": {},
   "outputs": [],
   "source": [
    "profile2.to_file(output_file=\"nans.html\")"
   ]
  },
  {
   "cell_type": "code",
   "execution_count": null,
   "metadata": {},
   "outputs": [],
   "source": [
    "data = data.sort_values([\"zip5\", 'date_key', 'Time'])\n",
    "x = data['zip5']"
   ]
  },
  {
   "cell_type": "code",
   "execution_count": null,
   "metadata": {},
   "outputs": [],
   "source": [
    "far = pd.read_excel('FARcodesZIPdata2010WithAKandHI.xlsx', sheet_name = 1)"
   ]
  },
  {
   "cell_type": "code",
   "execution_count": null,
   "metadata": {},
   "outputs": [],
   "source": [
    "cols = ['ZIP', 'density', 'state']\n",
    "far = far[cols]\n",
    "new_row = {'ZIP': 2722, 'density': 0, 'state': 'MA'}\n",
    "far = far.append(new_row, ignore_index=True)"
   ]
  },
  {
   "cell_type": "code",
   "execution_count": null,
   "metadata": {},
   "outputs": [],
   "source": [
    "data = data.merge(far, left_on = 'zip5', right_on = 'ZIP')\n",
    "y = data['zip5']"
   ]
  },
  {
   "cell_type": "code",
   "execution_count": null,
   "metadata": {},
   "outputs": [],
   "source": [
    "New_England_Northeast = ['CT', 'ME', 'MA', 'NH', 'RI', 'VT']\n",
    "Mid_Atlantic_Northeast = ['NJ', 'NY', 'PA']\n",
    "East_North_Central_Midwest = ['IL', 'IN', 'MI', 'OH', 'WI'] \n",
    "West_North_Central_Midwest = ['IA', 'KS', 'MN', 'MO', 'NE', 'ND', 'SD']\n",
    "South_Atlantic_South = ['DE', 'FL', 'GA', 'MD', 'NC', 'SC', 'VA', 'DC', 'WV']\n",
    "East_South_Central_South = ['AL', 'KY', 'MS', 'TN']\n",
    "West_South_Central_South = ['AR', 'LA', 'OK', 'TX']\n",
    "Mountain_West = ['AZ', 'CO', 'ID', 'MT', 'NV', 'NM', 'UT', 'WY']\n",
    "Pacific_West = ['AK', 'CA', 'HI', 'OR', 'WA']"
   ]
  },
  {
   "cell_type": "code",
   "execution_count": null,
   "metadata": {},
   "outputs": [],
   "source": [
    "data['USR'] = ['Urban' if x > 3000 else 'Rural' if x < 1000 else 'Suburban' for x in data['density']]"
   ]
  },
  {
   "cell_type": "code",
   "execution_count": null,
   "metadata": {},
   "outputs": [],
   "source": [
    "data['Region'] = ['New England Northeast' if x in New_England_Northeast else\n",
    "                 'Mid Atlantic Northeast' if x in Mid_Atlantic_Northeast else\n",
    "                 'East North Central Midwest' if x in East_North_Central_Midwest else\n",
    "                 'West North Central Midwest' if x in West_North_Central_Midwest else\n",
    "                 'South Atlantic South' if x in South_Atlantic_South else\n",
    "                 'East South Central South' if x in East_South_Central_South else\n",
    "                 'West South Central South' if x in West_South_Central_South else\n",
    "                 'Mountain West' if x in Mountain_West else\n",
    "                 'Pacific West' for x in data['state']]\n",
    "data = data.drop([\"ZIP\"], axis=1)"
   ]
  },
  {
   "cell_type": "code",
   "execution_count": null,
   "metadata": {},
   "outputs": [],
   "source": [
    "data['Weekday'] = data['date_key'].dt.dayofweek"
   ]
  },
  {
   "cell_type": "code",
   "execution_count": null,
   "metadata": {},
   "outputs": [],
   "source": [
    "data"
   ]
  },
  {
   "cell_type": "code",
   "execution_count": null,
   "metadata": {},
   "outputs": [],
   "source": []
  }
 ],
 "metadata": {
  "kernelspec": {
   "display_name": "Python 3",
   "language": "python",
   "name": "python3"
  },
  "language_info": {
   "codemirror_mode": {
    "name": "ipython",
    "version": 3
   },
   "file_extension": ".py",
   "mimetype": "text/x-python",
   "name": "python",
   "nbconvert_exporter": "python",
   "pygments_lexer": "ipython3",
   "version": "3.8.1"
  }
 },
 "nbformat": 4,
 "nbformat_minor": 4
}
