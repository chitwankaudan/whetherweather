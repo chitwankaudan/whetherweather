{
 "cells": [
  {
   "cell_type": "markdown",
   "metadata": {},
   "source": [
    "### Outlier Analysis\n",
    "\n",
    "Please work in your section and suggest:\n",
    "- Why the data is missing?\n",
    "- Is there a pattern for missing data (by ZIP, day, year, etc)?\n",
    "- Is it important?\n",
    "- What are the next steps?"
   ]
  },
  {
   "cell_type": "markdown",
   "metadata": {},
   "source": [
    "### Wendy\n",
    "\n",
    "- Pressure_potential_vorticity_surface has 385709 (99.1%) missing values\n",
    "- Soil_temperature_depth_below_surface_layer has 5544 (1.4%) missing values\n",
    "- Temperature_altitude_above_msl has 4321 (1.1%) missing values\n",
    "- Temperature_potential_vorticity_surface has 385709 (99.1%) missing values\n",
    "- Vertical_Speed_Shear_potential_vorticity_surface has 385709 (99.1%) missing values\n",
    "- Visibility_surface has 69098 (17.7%) missing values\n",
    "- Volumetric_Soil_Moisture_Content_depth_below_surface_layer has 5544 (1.4%) missing values\n",
    "- Categorical_Freezing_Rain_surface has 316016 (81.2%) missing values\n",
    "- Categorical_Rain_surface has 316016 (81.2%) missing values\n",
    "- Cloud_mixing_ratio_hybrid has 316016 (81.2%) missing values\n",
    "- Cloud_mixing_ratio_hybrid is highly skewed (γ1 = 27.69373963)\n",
    "- Cloud_mixing_ratio_hybrid has 72199 (18.5%) zeros\n",
    "- Rain_mixing_ratio_hybrid has 316016 (81.2%) missing values\n",
    "- Rain_mixing_ratio_hybrid has 70260 (18.0%) zeros\n",
    "- Rain_mixing_ratio_isobaric has 316016 (81.2%) missing values\n",
    "- Total_cloud_cover_isobaric has 316016 (81.2%) missing values"
   ]
  },
  {
   "cell_type": "code",
   "execution_count": null,
   "metadata": {},
   "outputs": [],
   "source": []
  },
  {
   "cell_type": "code",
   "execution_count": null,
   "metadata": {},
   "outputs": [],
   "source": []
  },
  {
   "attachments": {},
   "cell_type": "markdown",
   "metadata": {},
   "source": [
    "## Ngan\n",
    "- Geopotential_height_potential_vorticity_surface has 385709 (99.1%) missing values\n",
    "- Haines_Index_surface has 6726 (1.7%) missing values\n",
    "- u_component_of_wind_altitude_above_msl has 4321 (1.1%) missing values\n",
    "- u_component_of_wind_potential_vorticity_surface has 385709 (99.1%) missing values\n",
    "- v_component_of_wind_altitude_above_msl has 4321 (1.1%) missing values\n",
    "- v_component_of_wind_potential_vorticity_surface has 385709 (99.1%) missing values\n",
    "- Categorical_Ice_Pellets_surface has 316016 (81.2%) missing values\n",
    "- Ice_water_mixing_ratio_hybrid has 316016 (81.2%) missing values\n",
    "- Ice_water_mixing_ratio_hybrid is highly skewed (γ1 = 21.89943017)\n",
    "- Ice_water_mixing_ratio_hybrid has 72756 (18.7%) zeros\n",
    "- Ice_water_mixing_ratio_isobaric has 316016 (81.2%) missing values\n",
    "- Precipitation_rate_surface has 316016 (81.2%) missing values\n",
    "- Precipitation_rate_surface has 61001 (15.7%) zeros\n",
    "- Vertical_velocity_geometric_isobaric has 316016 (81.2%) missing values\n",
    "- Ice_growth_rate_altitude_above_msl has 369711 (95.0%) missing values\n",
    "- Ice_growth_rate_altitude_above_msl has 19572 (5.0%) zeros!"
   ]
  },
  {
   "cell_type": "code",
   "execution_count": null,
   "metadata": {},
   "outputs": [],
   "source": []
  },
  {
   "attachments": {},
   "cell_type": "markdown",
   "metadata": {},
   "source": [
    "## Chitwan\n",
    "- impact_score has 132409 (34.0%) missing values\n",
    "- Land_sea_coverage_nearest_neighbor_land1sea0_surface has 122793 (31.5%) missing values\n",
    "- Snow_depth_surface has 5544 (1.4%) missing values\n",
    "- Snow_depth_surface has 356611 (91.6%) zeros\n",
    "- Water_equivalent_of_accumulated_snow_depth_surface has 356781 (91.6%) zeros\n",
    "- Categorical_Snow_surface has 316016 (81.2%) missing values\n",
    "- Composite_reflectivity_entire_atmosphere has 316016 (81.2%) missing values\n",
    "- Graupel_snow_pellets_hybrid has 316016 (81.2%) missing values\n",
    "- Graupel_snow_pellets_hybrid is highly skewed (γ1 = 73.26876449)\n",
    "- Graupel_snow_pellets_hybrid has 73043 (18.8%) zeros\n",
    "- Graupel_snow_pellets_isobaric has 316016 (81.2%) missing values\n",
    "- Snow_mixing_ratio_hybrid has 316016 (81.2%) missing values\n",
    "- Snow_mixing_ratio_hybrid is highly skewed (γ1 = 31.41715949)\n",
    "- Snow_mixing_ratio_hybrid has 72934 (18.7%) zeros\n",
    "- Snow_mixing_ratio_isobaric has 316016 (81.2%) missing values!"
   ]
  }
 ],
 "metadata": {
  "kernelspec": {
   "display_name": "Python 3",
   "language": "python",
   "name": "python3"
  },
  "language_info": {
   "codemirror_mode": {
    "name": "ipython",
    "version": 3
   },
   "file_extension": ".py",
   "mimetype": "text/x-python",
   "name": "python",
   "nbconvert_exporter": "python",
   "pygments_lexer": "ipython3",
   "version": "3.6.8"
  }
 },
 "nbformat": 4,
 "nbformat_minor": 4
}
